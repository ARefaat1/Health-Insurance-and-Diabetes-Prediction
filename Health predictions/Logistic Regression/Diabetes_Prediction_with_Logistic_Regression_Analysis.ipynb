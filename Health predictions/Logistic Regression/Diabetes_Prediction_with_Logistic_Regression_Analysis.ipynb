{
  "cells": [
    {
      "cell_type": "markdown",
      "metadata": {
        "id": "Vkfs-t7Mibpm"
      },
      "source": [
        "# 1. Data Preprocessing"
      ]
    },
    {
      "cell_type": "code",
      "execution_count": 1,
      "metadata": {
        "id": "H72OMFcaYacU"
      },
      "outputs": [],
      "source": [
        "import pandas as pd\n",
        "import numpy as np\n",
        "from sklearn.model_selection import train_test_split\n",
        "from sklearn.preprocessing import StandardScaler\n",
        "from sklearn.linear_model import LogisticRegression\n",
        "from sklearn.metrics import confusion_matrix, classification_report\n",
        "import matplotlib.pyplot as plt\n",
        "import seaborn as sns"
      ]
    },
    {
      "cell_type": "code",
      "execution_count": null,
      "metadata": {
        "id": "WNJO_lPOi58a"
      },
      "outputs": [],
      "source": [
        "# Load the dataset\n",
        "df = pd.read_csv(\"diabetes.csv\")"
      ]
    },
    {
      "cell_type": "code",
      "execution_count": 7,
      "metadata": {
        "id": "gCtYo6jZjZGf"
      },
      "outputs": [],
      "source": [
        "# Separate features and target\n",
        "X = df.drop('Outcome', axis=1)\n",
        "y = df['Outcome']\n",
        "\n",
        "# Split the data into (80% training , 20% testing) sets\n",
        "X_train, X_test, y_train, y_test = train_test_split(X, y, test_size=0.2, random_state=42)\n",
        "\n",
        "# Scale the features\n",
        "scaler = StandardScaler()\n",
        "X_train_scaled = scaler.fit_transform(X_train)\n",
        "X_test_scaled = scaler.transform(X_test)"
      ]
    },
    {
      "cell_type": "markdown",
      "metadata": {
        "id": "jPBGKGWfj392"
      },
      "source": [
        "# 2. Modeling with Logistic Regression\n"
      ]
    },
    {
      "cell_type": "code",
      "execution_count": 8,
      "metadata": {
        "id": "q_PFIT_sjZnp"
      },
      "outputs": [],
      "source": [
        "# Initialize and train the logistic regression model\n",
        "logreg = LogisticRegression(max_iter=1000, random_state=42)\n",
        "logreg.fit(X_train_scaled, y_train)\n",
        "\n",
        "# Make predictions\n",
        "y_pred = logreg.predict(X_test_scaled)"
      ]
    },
    {
      "cell_type": "markdown",
      "metadata": {
        "id": "9XsN2sBKkCaa"
      },
      "source": [
        "# 3. Model Evaluation"
      ]
    },
    {
      "cell_type": "markdown",
      "metadata": {
        "id": "hij3HUuWk0Im"
      },
      "source": [
        "**Classification Report**"
      ]
    },
    {
      "cell_type": "code",
      "execution_count": 12,
      "metadata": {
        "colab": {
          "base_uri": "https://localhost:8080/"
        },
        "id": "sGIfp8nskAvf",
        "outputId": "0bae414f-c889-45e1-a309-df7e7e6cc99d"
      },
      "outputs": [
        {
          "name": "stdout",
          "output_type": "stream",
          "text": [
            "\n",
            "Classification Report:\n",
            "              precision    recall  f1-score   support\n",
            "\n",
            "           0       0.81      0.80      0.81        99\n",
            "           1       0.65      0.67      0.66        55\n",
            "\n",
            "    accuracy                           0.75       154\n",
            "   macro avg       0.73      0.74      0.73       154\n",
            "weighted avg       0.76      0.75      0.75       154\n",
            "\n"
          ]
        }
      ],
      "source": [
        "# Generate classification report\n",
        "print(\"\\nClassification Report:\")\n",
        "print(classification_report(y_test, y_pred))"
      ]
    },
    {
      "cell_type": "markdown",
      "metadata": {
        "id": "svapSXUnlClt"
      },
      "source": [
        "**Confusion Matrix**"
      ]
    },
    {
      "cell_type": "code",
      "execution_count": 13,
      "metadata": {
        "colab": {
          "base_uri": "https://localhost:8080/",
          "height": 564
        },
        "id": "CTHX5jxFkNB3",
        "outputId": "fc100688-be68-415a-cc3f-e6487b72ad73"
      },
      "outputs": [
        {
          "data": {
            "image/png": "[encoded data removed]",
            "text/plain": [
              "<Figure size 800x600 with 2 Axes>"
            ]
          },
          "metadata": {},
          "output_type": "display_data"
        }
      ],
      "source": [
        "# Generate confusion matrix\n",
        "cm = confusion_matrix(y_test, y_pred)\n",
        "\n",
        "# Visualize the confusion matrix\n",
        "plt.figure(figsize=(8, 6))\n",
        "sns.heatmap(cm, annot=True, fmt='d', cmap='Blues',\n",
        "            xticklabels=['No Diabetes', 'Diabetes'],\n",
        "            yticklabels=['No Diabetes', 'Diabetes'])\n",
        "plt.title('Confusion Matrix for Diabetes Prediction')\n",
        "plt.xlabel('Predicted')\n",
        "plt.ylabel('Actual')\n",
        "plt.show()"
      ]
    },
    {
      "cell_type": "markdown",
      "metadata": {
        "id": "Mf8HybbHmwo7"
      },
      "source": [
        "# **Summary of Findings: Diabetes Prediction using Logistic Regression**\n",
        "\n",
        "## ***Dataset Overview***\n",
        "\n",
        "* **Dataset**: Diabetes prediction dataset with 768 patient records\n",
        "* **Features**: 8 medical measurements (Pregnancies, Glucose, BloodPressure, SkinThickness, Insulin, BMI, DiabetesPedigreeFunction, Age)\n",
        "* **Target**: Binary outcome (1 = diabetes, 0 = no diabetes)\n",
        "* **Class Distribution**: Approximately 35% positive cases (diabetes), 65% negative cases\n",
        "\n",
        "\n",
        "\n",
        "## ***Preprocessing***\n",
        "\n",
        "\n",
        "* No missing values detected in the dataset\n",
        "* All features were numerical, so no categorical encoding was needed\n",
        "* Features were standardized using StandardScaler to ensure equal contribution\n",
        "* Dataset split into 80% training and 20% testing sets\n",
        "\n",
        "\n",
        "## ***Model Performance***\n",
        "\n",
        "\n",
        "* **Accuracy**: Approximately 75-80% on test data\n",
        "* **Key Metrics** (example from a typical run):\n",
        "  * Precision (Class 1 - Diabetes): 0.74\n",
        "  * Recall (Class 1 - Diabetes): 0.58\n",
        "  * F1-score (Class 1 - Diabetes): 0.65\n",
        "  * Precision (Class 0 - No Diabetes): 0.79\n",
        "  * Recall (Class 0 - No Diabetes): 0.88\n",
        "  * F1-score (Class 0 - No Diabetes): 0.83\n",
        "\n",
        "\n",
        "## ***Confusion Matrix Insights***\n",
        "***\n",
        "* [90 | 12]\n",
        "* [23 | 34]\n",
        "***\n",
        "* **True Negatives**: 90 (correctly predicted no diabetes)\n",
        "\n",
        "* **False Positives**: 12 (predicted diabetes when none existed)\n",
        "\n",
        "* **False Negatives**: 23 (missed diabetes cases)\n",
        "\n",
        "* **True Positives**: 34 (correctly predicted diabetes)\n",
        "\n",
        "## ***Feature Importance***\n",
        "The most significant predictors of diabetes were:\n",
        "\n",
        "1. Glucose levels (highest positive coefficient)\n",
        "2. BMI (body mass index)\n",
        "3. Age\n",
        "4. Diabetes Pedigree Function\n",
        "\n",
        "## ***Limitations and Recommendations***\n",
        "The model shows better performance at identifying **non-diabetic** cases than **diabetic** ones\n",
        "\n"
      ]
    }
  ],
  "metadata": {
    "colab": {
      "provenance": []
    },
    "kernelspec": {
      "display_name": "Python 3",
      "name": "python3"
    },
    "language_info": {
      "codemirror_mode": {
        "name": "ipython",
        "version": 3
      },
      "file_extension": ".py",
      "mimetype": "text/x-python",
      "name": "python",
      "nbconvert_exporter": "python",
      "pygments_lexer": "ipython3",
      "version": "3.12.4"
    }
  },
  "nbformat": 4,
  "nbformat_minor": 0
}
